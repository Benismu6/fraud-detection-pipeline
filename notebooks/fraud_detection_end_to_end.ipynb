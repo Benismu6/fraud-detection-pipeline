{
 "cells": [
  {
   "cell_type": "code",
   "execution_count": 1,
   "id": "470caaa4",
   "metadata": {},
   "outputs": [],
   "source": [
    "# Basic\n",
    "import pandas as pd\n",
    "import numpy as np\n",
    "import random\n",
    "\n",
    "# API\n",
    "import requests\n",
    "\n",
    "# ML\n",
    "from sklearn.model_selection import train_test_split\n",
    "from sklearn.ensemble import RandomForestClassifier\n",
    "from sklearn.metrics import classification_report, confusion_matrix\n"
   ]
  },
  {
   "cell_type": "code",
   "execution_count": 2,
   "id": "caa21c34",
   "metadata": {},
   "outputs": [
    {
     "name": "stdout",
     "output_type": "stream",
     "text": [
      "   user_id              name                             email        country\n",
      "0        1     Emily Johnson     emily.johnson@x.dummyjson.com  United States\n",
      "1        2  Michael Williams  michael.williams@x.dummyjson.com  United States\n",
      "2        3      Sophia Brown      sophia.brown@x.dummyjson.com  United States\n",
      "3        4       James Davis       james.davis@x.dummyjson.com  United States\n",
      "4        5       Emma Miller       emma.miller@x.dummyjson.com  United States\n"
     ]
    }
   ],
   "source": [
    "# 2. Data Collection - Pull Users\n",
    "\n",
    "# Pull dummy users from API\n",
    "url = 'https://dummyjson.com/users'\n",
    "response = requests.get(url)\n",
    "\n",
    "if response.status_code == 200:\n",
    "    data = response.json()\n",
    "    users = []\n",
    "    for user in data['users']:\n",
    "        users.append({\n",
    "            'user_id': user['id'],\n",
    "            'name': f\"{user['firstName']} {user['lastName']}\",\n",
    "            'email': user['email'],\n",
    "            'country': user['address']['country']\n",
    "        })\n",
    "    users_df = pd.DataFrame(users)\n",
    "    print(users_df.head())\n",
    "else:\n",
    "    print(f\"Error fetching users: {response.status_code}\")\n"
   ]
  },
  {
   "cell_type": "code",
   "execution_count": 3,
   "id": "d7dcd943",
   "metadata": {},
   "outputs": [
    {
     "name": "stdout",
     "output_type": "stream",
     "text": [
      "   user_id  transaction_amount  transaction_hour        country  is_fraud\n",
      "0        1             3609.98                 5  United States         0\n",
      "1        1             1214.32                20  United States         0\n",
      "2        1             1527.67                16  United States         0\n",
      "3        1             1134.37                 9  United States         0\n",
      "4        1             3157.38                14  United States         0\n"
     ]
    }
   ],
   "source": [
    "# 3. Transaction Simulation\n",
    "\n",
    "transactions = []\n",
    "\n",
    "# Generate random transactions per user\n",
    "for _, user in users_df.iterrows():\n",
    "    num_transactions = random.randint(10, 20)  # 10-20 transactions per user\n",
    "    for _ in range(num_transactions):\n",
    "        amount = round(random.uniform(5.0, 5000.0), 2)  # $5 - $5000\n",
    "        hour = random.randint(0, 23)  # Transaction hour (0-23)\n",
    "        is_fraud = 0\n",
    "\n",
    "        # Fraud rules\n",
    "        if amount > 3000 or hour in [1, 2, 3]:  # Large or odd-hour transaction\n",
    "            if random.random() < 0.3:\n",
    "                is_fraud = 1\n",
    "        else:\n",
    "            if random.random() < 0.05:\n",
    "                is_fraud = 1\n",
    "\n",
    "        transactions.append({\n",
    "            'user_id': user['user_id'],\n",
    "            'transaction_amount': amount,\n",
    "            'transaction_hour': hour,\n",
    "            'country': user['country'],\n",
    "            'is_fraud': is_fraud\n",
    "        })\n",
    "\n",
    "transactions_df = pd.DataFrame(transactions)\n",
    "print(transactions_df.head())\n"
   ]
  },
  {
   "cell_type": "code",
   "execution_count": 4,
   "id": "402ef111",
   "metadata": {},
   "outputs": [
    {
     "name": "stdout",
     "output_type": "stream",
     "text": [
      "   user_id  transaction_amount  transaction_hour        country  is_fraud\n",
      "0        1             3609.98                 5  United States         0\n",
      "1        1             1214.32                20  United States         0\n",
      "2        1             1527.67                16  United States         0\n",
      "3        1             1134.37                 9  United States         0\n",
      "4        1             3157.38                14  United States         0\n",
      "<class 'pandas.core.frame.DataFrame'>\n",
      "RangeIndex: 481 entries, 0 to 480\n",
      "Data columns (total 5 columns):\n",
      " #   Column              Non-Null Count  Dtype  \n",
      "---  ------              --------------  -----  \n",
      " 0   user_id             481 non-null    int64  \n",
      " 1   transaction_amount  481 non-null    float64\n",
      " 2   transaction_hour    481 non-null    int64  \n",
      " 3   country             481 non-null    object \n",
      " 4   is_fraud            481 non-null    int64  \n",
      "dtypes: float64(1), int64(3), object(1)\n",
      "memory usage: 18.9+ KB\n",
      "None\n",
      "          user_id  transaction_amount  transaction_hour    is_fraud\n",
      "count  481.000000          481.000000        481.000000  481.000000\n",
      "mean    15.324324         2445.264324         11.422037    0.160083\n",
      "std      8.920880         1467.461378          6.735374    0.367065\n",
      "min      1.000000           10.770000          0.000000    0.000000\n",
      "25%      7.000000         1137.750000          6.000000    0.000000\n",
      "50%     15.000000         2446.120000         12.000000    0.000000\n",
      "75%     23.000000         3641.610000         16.000000    0.000000\n",
      "max     30.000000         4998.290000         23.000000    1.000000\n",
      "is_fraud\n",
      "0    0.839917\n",
      "1    0.160083\n",
      "Name: proportion, dtype: float64\n"
     ]
    }
   ],
   "source": [
    "# 4. Data Preprocessing and EDA\n",
    "\n",
    "# Overview\n",
    "print(transactions_df.head())\n",
    "print(transactions_df.info())\n",
    "print(transactions_df.describe())\n",
    "\n",
    "# Check class balance (fraud vs not fraud)\n",
    "print(transactions_df['is_fraud'].value_counts(normalize=True))\n"
   ]
  },
  {
   "cell_type": "code",
   "execution_count": 5,
   "id": "8d424b07",
   "metadata": {},
   "outputs": [],
   "source": [
    "# 5. Model Training\n",
    "\n",
    "# Features and target\n",
    "X = transactions_df[['transaction_amount', 'transaction_hour']]\n",
    "y = transactions_df['is_fraud']\n",
    "\n",
    "# Train/test split\n",
    "X_train, X_test, y_train, y_test = train_test_split(X, y, test_size=0.3, random_state=42)\n",
    "\n",
    "# Model\n",
    "model = RandomForestClassifier(random_state=42)\n",
    "model.fit(X_train, y_train)\n",
    "\n",
    "# Predict\n",
    "y_pred = model.predict(X_test)\n"
   ]
  },
  {
   "cell_type": "code",
   "execution_count": 6,
   "id": "65927fab",
   "metadata": {},
   "outputs": [
    {
     "name": "stdout",
     "output_type": "stream",
     "text": [
      "              precision    recall  f1-score   support\n",
      "\n",
      "           0       0.88      0.88      0.88       125\n",
      "           1       0.25      0.25      0.25        20\n",
      "\n",
      "    accuracy                           0.79       145\n",
      "   macro avg       0.56      0.56      0.56       145\n",
      "weighted avg       0.79      0.79      0.79       145\n",
      "\n",
      "[[110  15]\n",
      " [ 15   5]]\n"
     ]
    }
   ],
   "source": [
    "# 6. Model Evaluation\n",
    "\n",
    "# Classification report\n",
    "print(classification_report(y_test, y_pred))\n",
    "\n",
    "# Confusion matrix\n",
    "print(confusion_matrix(y_test, y_pred))\n"
   ]
  },
  {
   "cell_type": "code",
   "execution_count": 7,
   "id": "8636b9ae",
   "metadata": {},
   "outputs": [
    {
     "name": "stdout",
     "output_type": "stream",
     "text": [
      "Model saved successfully!\n"
     ]
    }
   ],
   "source": [
    "# 7. Save the model\n",
    "\n",
    "import joblib\n",
    "\n",
    "# Save the trained model to a file\n",
    "joblib.dump(model, '../models/fraud_detection_model.pkl')\n",
    "\n",
    "print(\"Model saved successfully!\")\n"
   ]
  },
  {
   "cell_type": "code",
   "execution_count": null,
   "id": "066dbc49",
   "metadata": {},
   "outputs": [],
   "source": []
  }
 ],
 "metadata": {
  "kernelspec": {
   "display_name": "Python 3",
   "language": "python",
   "name": "python3"
  },
  "language_info": {
   "codemirror_mode": {
    "name": "ipython",
    "version": 3
   },
   "file_extension": ".py",
   "mimetype": "text/x-python",
   "name": "python",
   "nbconvert_exporter": "python",
   "pygments_lexer": "ipython3",
   "version": "3.12.6"
  }
 },
 "nbformat": 4,
 "nbformat_minor": 5
}
